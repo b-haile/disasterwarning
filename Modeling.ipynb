{
 "cells": [
  {
   "cell_type": "markdown",
   "metadata": {},
   "source": [
    "## Problem Statement\n",
    "\n",
    "While traditional methods for alerting on events such as hurricanes and tornadoes rely on information derived from official sources (e.g. USGS), this project aims to utilize Twitter activity to identify such an event. In practice, once the event is predicted, an alert can then be sent out across social media. The outcome of this project will be a binary classification model that can analyze tweets and use them to predict whether a disaster is present and a warning must be sent. As a proof of concept, this project will use archived tweets collected during the most dangerous days of Hurricane Sandy in 2012. The project's terminology will center around that of hurricanes specifically. In this situation, predicting no emergency while a hurricane approaches (false negative) is a much more dangerous outcome than predicting a hurricane when there is none (false positive). Models will therefore be evaluated on recall as well as accuracy."
   ]
  },
  {
   "cell_type": "markdown",
   "metadata": {},
   "source": [
    "## Executive Summary\n",
    "\n",
    "### Data Acquisition\n",
    "\n",
    "I initially atttempted to use Twitter's API to collect live data. I also tried to use tweet IDs from archived datasets to obtain exact data on the location and datetime of each tweet. This only yielded a small amount of data, not enough to for prediciton. For the scope of this project, I needed a time-efficient solution. I decided to take CrisisLex's dataset of archived tweets during Hurricane Sandy and use them to predict the presence of a hurricane. CrisisLex is a repository of social media data on various crises and natural disasters. This dataset consists of tweets taken from late October 2012, posted by users in coastal New York and New Jersey, and based on 4 keywords: hurricane, hurricane sandy, frankenstorm, and #sandy. One columns lists tweets as \"on-topic\" or \"off-topic\", meaning their relevance or irrelevance to the subject of the hurricane. This column is the basis of my binary classification.\n",
    "\n",
    "### Data Cleaning and EDA\n",
    "\n",
    "In this dataset, duplicated rows in the \"tweets\" column would refer to retweets. These rows are dropped so that tweets are not counted more than once, which would give some predictive words too much weight, leading to potential bias in the model. The positive class is the presence of a hurricane, so I set \"on-topic\" to 1 and \"off-topic\" to 0. I vectorized the corpus of tweets, and observed the most common words across the entire corpus and between the two classes. Irrelevant words from the positive class were added to the list of stop words to ensure that it was distinct from the negative class. I then used a clustering model to view the overlap between the two classes.\n",
    "\n",
    "### Modeling\n",
    "\n",
    "I started with logistic regression models to see if a simpler model would suffice. Following that, I used random forest models to determine if more complexity would lead to more accurate predictions, but these models underperformed. I also experimented with two different methods of vectorizing the tweets. As I conducted EDA, I added words to the list of stop words and re-examined the four models with various versions of the list. This did not have a marked effect on the models' performance. I selected the logistic regression model with CountVectorizer for its accuracy and low variance compared to the random forest models. The recall score of this model is high, meaning that false negatives are kept to a minimum. The strongest feature coefficients of this model correspond with words that are highly relevant to a hurricane. This includes direct references to the event and also to safety precautions taken during a disaster."
   ]
  },
  {
   "cell_type": "markdown",
   "metadata": {},
   "source": [
    "## Loading Libraries and Data"
   ]
  },
  {
   "cell_type": "code",
   "execution_count": 46,
   "metadata": {},
   "outputs": [],
   "source": [
    "import pandas as pd\n",
    "import numpy as np\n",
    "import matplotlib.pyplot as plt\n",
    "import seaborn as sns\n",
    "import nltk\n",
    "from nltk.corpus import stopwords\n",
    "set(stopwords.words('english'));\n",
    "from sklearn.linear_model import LogisticRegression\n",
    "from sklearn.ensemble import RandomForestClassifier\n",
    "from sklearn.model_selection import GridSearchCV, train_test_split, cross_val_score\n",
    "import sklearn.metrics as metrics\n",
    "from sklearn.pipeline import Pipeline, FeatureUnion\n",
    "from sklearn.feature_extraction.text import CountVectorizer, TfidfVectorizer\n",
    "from sklearn.preprocessing import StandardScaler\n",
    "\n",
    "import warnings\n",
    "warnings.filterwarnings('ignore')\n",
    "\n",
    "%matplotlib inline"
   ]
  },
  {
   "cell_type": "code",
   "execution_count": 47,
   "metadata": {},
   "outputs": [
    {
     "data": {
      "text/html": [
       "<div>\n",
       "<style scoped>\n",
       "    .dataframe tbody tr th:only-of-type {\n",
       "        vertical-align: middle;\n",
       "    }\n",
       "\n",
       "    .dataframe tbody tr th {\n",
       "        vertical-align: top;\n",
       "    }\n",
       "\n",
       "    .dataframe thead th {\n",
       "        text-align: right;\n",
       "    }\n",
       "</style>\n",
       "<table border=\"1\" class=\"dataframe\">\n",
       "  <thead>\n",
       "    <tr style=\"text-align: right;\">\n",
       "      <th></th>\n",
       "      <th>tweet id</th>\n",
       "      <th>tweet</th>\n",
       "      <th>label</th>\n",
       "    </tr>\n",
       "  </thead>\n",
       "  <tbody>\n",
       "    <tr>\n",
       "      <th>0</th>\n",
       "      <td>262596552399396864</td>\n",
       "      <td>I've got enough candles to supply a Mexican fa...</td>\n",
       "      <td>0</td>\n",
       "    </tr>\n",
       "    <tr>\n",
       "      <th>1</th>\n",
       "      <td>263044104500420609</td>\n",
       "      <td>Sandy be soooo mad that she be shattering our ...</td>\n",
       "      <td>1</td>\n",
       "    </tr>\n",
       "    <tr>\n",
       "      <th>2</th>\n",
       "      <td>263309629973491712</td>\n",
       "      <td>@ibexgirl thankfully Hurricane Waugh played it...</td>\n",
       "      <td>0</td>\n",
       "    </tr>\n",
       "    <tr>\n",
       "      <th>3</th>\n",
       "      <td>263422851133079552</td>\n",
       "      <td>@taos you never got that magnificent case of B...</td>\n",
       "      <td>0</td>\n",
       "    </tr>\n",
       "    <tr>\n",
       "      <th>4</th>\n",
       "      <td>262404311223504896</td>\n",
       "      <td>I'm at Mad River Bar &amp;amp; Grille (New York, N...</td>\n",
       "      <td>0</td>\n",
       "    </tr>\n",
       "  </tbody>\n",
       "</table>\n",
       "</div>"
      ],
      "text/plain": [
       "             tweet id                                              tweet  \\\n",
       "0  262596552399396864  I've got enough candles to supply a Mexican fa...   \n",
       "1  263044104500420609  Sandy be soooo mad that she be shattering our ...   \n",
       "2  263309629973491712  @ibexgirl thankfully Hurricane Waugh played it...   \n",
       "3  263422851133079552  @taos you never got that magnificent case of B...   \n",
       "4  262404311223504896  I'm at Mad River Bar &amp; Grille (New York, N...   \n",
       "\n",
       "   label  \n",
       "0      0  \n",
       "1      1  \n",
       "2      0  \n",
       "3      0  \n",
       "4      0  "
      ]
     },
     "execution_count": 47,
     "metadata": {},
     "output_type": "execute_result"
    }
   ],
   "source": [
    "df = pd.read_csv('data/sandy.csv')\n",
    "df.head()"
   ]
  },
  {
   "cell_type": "markdown",
   "metadata": {},
   "source": [
    "## Preprocessing"
   ]
  },
  {
   "cell_type": "code",
   "execution_count": 48,
   "metadata": {},
   "outputs": [],
   "source": [
    "X = df['tweet']\n",
    "y = df['label']\n",
    "X_train, X_test, y_train, y_test = train_test_split(X, y, random_state=50)"
   ]
  },
  {
   "cell_type": "code",
   "execution_count": 49,
   "metadata": {},
   "outputs": [],
   "source": [
    "stopwords = nltk.corpus.stopwords.words('english')\n",
    "stopwords.extend(['rt', 'http', 'just', 'like', 'new', 'people', 'school', 'hope', \n",
    "                  'going', 'to', 'co', 'even', 'go', 'get', 'shit', 'lol', 'would'])"
   ]
  },
  {
   "cell_type": "markdown",
   "metadata": {},
   "source": [
    "These stop words were added according to the exploratory data analysis. Adding to the list yields more relevant words to predict on. The models below were run with various versions of this list, yet after a certain point, adding more words to the list did not affect model accuracy. The list seen here is the final list of stop words used in the models."
   ]
  },
  {
   "cell_type": "markdown",
   "metadata": {},
   "source": [
    "## Modeling"
   ]
  },
  {
   "cell_type": "markdown",
   "metadata": {},
   "source": [
    "## Baseline Model"
   ]
  },
  {
   "cell_type": "code",
   "execution_count": 50,
   "metadata": {},
   "outputs": [
    {
     "data": {
      "text/plain": [
       "1    0.597116\n",
       "0    0.402884\n",
       "Name: label, dtype: float64"
      ]
     },
     "execution_count": 50,
     "metadata": {},
     "output_type": "execute_result"
    }
   ],
   "source": [
    "y_test.value_counts(normalize=True)"
   ]
  },
  {
   "cell_type": "markdown",
   "metadata": {},
   "source": [
    "The baseline score is 60% in favor of predicting a hurricane. Any acceptable model will need an accuracy score higher than this."
   ]
  },
  {
   "cell_type": "markdown",
   "metadata": {},
   "source": [
    "## Logistic Regression"
   ]
  },
  {
   "cell_type": "markdown",
   "metadata": {},
   "source": [
    "### With CountVectorizer"
   ]
  },
  {
   "cell_type": "code",
   "execution_count": 51,
   "metadata": {},
   "outputs": [
    {
     "name": "stdout",
     "output_type": "stream",
     "text": [
      "0.9384985154814082\n",
      "0.9194232400339271\n",
      "0.8856109185792838\n"
     ]
    }
   ],
   "source": [
    "pipe = Pipeline([\n",
    "    ('cvec', CountVectorizer(stop_words=stopwords)),\n",
    "    ('lr', LogisticRegression(solver = 'liblinear'))\n",
    "])\n",
    "\n",
    "pipe_params = {\n",
    "    'cvec__max_features': [None, 500, 1000, 5000],\n",
    "    'cvec__min_df': [2, 5],\n",
    "    'cvec__max_df': [0.1,.9, .95],\n",
    "    'cvec__ngram_range': [(1,1), (1,2)]\n",
    "}\n",
    "\n",
    "gs1 = GridSearchCV(pipe, \n",
    "                  param_grid=pipe_params, \n",
    "                  cv=5)\n",
    "\n",
    "gs1.fit(X_train, y_train)\n",
    "gs1_model = gs1.best_estimator_\n",
    "print(gs1_model.score(X_train, y_train))\n",
    "print(gs1_model.score(X_test, y_test))\n",
    "print(cross_val_score(gs1_model, X, y, cv=5).mean())"
   ]
  },
  {
   "cell_type": "markdown",
   "metadata": {},
   "source": [
    "### With TfIdfVectorizer"
   ]
  },
  {
   "cell_type": "code",
   "execution_count": 43,
   "metadata": {},
   "outputs": [
    {
     "name": "stdout",
     "output_type": "stream",
     "text": [
      "0.9310052311607522\n",
      "0.9147582697201018\n",
      "0.879992468859513\n"
     ]
    }
   ],
   "source": [
    "pipe = Pipeline([\n",
    "    ('tvec', TfidfVectorizer(stop_words=stopwords)),\n",
    "    ('lr', LogisticRegression(solver = 'liblinear'))\n",
    "])\n",
    "\n",
    "pipe_params = {\n",
    "    'tvec__max_features': [None, 500, 1000, 5000],\n",
    "    'tvec__min_df': [2, 5],\n",
    "    'tvec__max_df': [0.1,.9, .95],\n",
    "    'tvec__ngram_range': [(1,1), (1,2)],\n",
    "    'tvec__stop_words': ['english']\n",
    "}\n",
    "\n",
    "gs = GridSearchCV(pipe, \n",
    "                  param_grid=pipe_params, \n",
    "                  cv=5)\n",
    "\n",
    "gs.fit(X_train, y_train)\n",
    "gs_model = gs.best_estimator_\n",
    "print(gs_model.score(X_train, y_train))\n",
    "print(gs_model.score(X_test, y_test))\n",
    "print(cross_val_score(gs_model, X, y, cv=5).mean())"
   ]
  },
  {
   "cell_type": "markdown",
   "metadata": {},
   "source": [
    "These models have high accuracy and low variance. I want to see if using a random forest can lead to improvement."
   ]
  },
  {
   "cell_type": "markdown",
   "metadata": {},
   "source": [
    "## Random Forest Classifier"
   ]
  },
  {
   "cell_type": "markdown",
   "metadata": {},
   "source": [
    "### With CountVectorizer"
   ]
  },
  {
   "cell_type": "code",
   "execution_count": 52,
   "metadata": {},
   "outputs": [
    {
     "name": "stdout",
     "output_type": "stream",
     "text": [
      "0.9926480984023752\n",
      "0.909245122985581\n",
      "0.882638748573586\n"
     ]
    }
   ],
   "source": [
    "pipe = Pipeline([\n",
    "    ('cvec', CountVectorizer(stop_words=stopwords)),\n",
    "    ('rf', RandomForestClassifier(bootstrap=True))\n",
    "])\n",
    "\n",
    "pipe_params = {\n",
    "    'cvec__max_features': [None, 500, 1000, 5000],\n",
    "    'cvec__min_df': [2, 5],\n",
    "    'cvec__max_df': [0.1,.9, .95],\n",
    "    'cvec__ngram_range': [(1,1), (1,2)],\n",
    "    'cvec__stop_words': ['english']\n",
    "}\n",
    "\n",
    "gs = GridSearchCV(pipe, \n",
    "                  param_grid=pipe_params, \n",
    "                  cv=5)\n",
    "\n",
    "gs.fit(X_train, y_train)\n",
    "gs_model = gs.best_estimator_\n",
    "print(gs_model.score(X_train, y_train))\n",
    "print(gs_model.score(X_test, y_test))\n",
    "print(cross_val_score(gs_model, X, y, cv=5).mean())"
   ]
  },
  {
   "cell_type": "markdown",
   "metadata": {},
   "source": [
    "### With TfIdfVectorizer"
   ]
  },
  {
   "cell_type": "code",
   "execution_count": 53,
   "metadata": {},
   "outputs": [
    {
     "name": "stdout",
     "output_type": "stream",
     "text": [
      "0.9910928884490315\n",
      "0.9151823579304496\n",
      "0.8796724237558482\n"
     ]
    }
   ],
   "source": [
    "pipe = Pipeline([\n",
    "    ('tvec', TfidfVectorizer(stop_words=stopwords)),\n",
    "    ('rf', RandomForestClassifier(bootstrap=True))\n",
    "])\n",
    "\n",
    "pipe_params = {\n",
    "    'tvec__max_features': [None, 500, 1000, 5000],\n",
    "    'tvec__min_df': [2, 5],\n",
    "    'tvec__max_df': [0.1,.9, .95],\n",
    "    'tvec__ngram_range': [(1,1), (1,2)],\n",
    "    'tvec__stop_words': ['english']\n",
    "}\n",
    "\n",
    "gs = GridSearchCV(pipe, \n",
    "                  param_grid=pipe_params, \n",
    "                  cv=5)\n",
    "\n",
    "gs.fit(X_train, y_train)\n",
    "gs_model = gs.best_estimator_\n",
    "print(gs_model.score(X_train, y_train))\n",
    "print(gs_model.score(X_test, y_test))\n",
    "print(cross_val_score(gs_model, X, y, cv=5).mean())"
   ]
  },
  {
   "cell_type": "markdown",
   "metadata": {},
   "source": [
    "The random forest models also have high accuracy yet, unexpectedly, their variance is larger than those of the logistic regression models. "
   ]
  },
  {
   "cell_type": "markdown",
   "metadata": {},
   "source": [
    "## Model Selection"
   ]
  },
  {
   "cell_type": "markdown",
   "metadata": {},
   "source": [
    "The logistic regression model with CountVectorizer is the most accutate. This model offers high accuracy with the lowest variance available. I will proceed to making predicitons with this model."
   ]
  },
  {
   "cell_type": "markdown",
   "metadata": {},
   "source": [
    "## Model Evaluation"
   ]
  },
  {
   "cell_type": "markdown",
   "metadata": {},
   "source": [
    "### Accuracy and Recall"
   ]
  },
  {
   "cell_type": "code",
   "execution_count": 42,
   "metadata": {},
   "outputs": [
    {
     "name": "stdout",
     "output_type": "stream",
     "text": [
      "0.9194232400339271\n"
     ]
    }
   ],
   "source": [
    "y_pred = gs1.predict(X_test)\n",
    "print(metrics.accuracy_score(y_test, y_pred))"
   ]
  },
  {
   "cell_type": "code",
   "execution_count": 63,
   "metadata": {},
   "outputs": [
    {
     "data": {
      "text/plain": [
       "0.9204545454545454"
      ]
     },
     "execution_count": 63,
     "metadata": {},
     "output_type": "execute_result"
    }
   ],
   "source": [
    "tp = 1296\n",
    "fn = 112\n",
    "tp / (tp + fn)"
   ]
  },
  {
   "cell_type": "markdown",
   "metadata": {},
   "source": [
    "Accuracy = 92%\n",
    "\n",
    "Recall = 92%\n",
    "\n",
    "I am satisfied with these scores. The accuracy is high, and the high recall indicates that false negatives are kept to a minimum. The numbers used to calculate recall can be found in the confusio matrix below."
   ]
  },
  {
   "cell_type": "markdown",
   "metadata": {},
   "source": [
    "### Confusion Matrix"
   ]
  },
  {
   "cell_type": "code",
   "execution_count": 55,
   "metadata": {},
   "outputs": [
    {
     "data": {
      "text/plain": [
       "Text(0.5, 1, 'Confusion Matrix')"
      ]
     },
     "execution_count": 55,
     "metadata": {},
     "output_type": "execute_result"
    },
    {
     "data": {
      "image/png": "[encoded data removed]",
      "text/plain": [
       "<Figure size 576x360 with 1 Axes>"
      ]
     },
     "metadata": {
      "needs_background": "light"
     },
     "output_type": "display_data"
    }
   ],
   "source": [
    "cm = metrics.confusion_matrix(y_test, y_pred)\n",
    "cm_df = pd.DataFrame(cm, columns=['No hurricane predicted', 'Hurricane predicted'], \n",
    "                     index=['No hurricane', 'Hurricane'])\n",
    "\n",
    "plt.figure(figsize=(8,5))\n",
    "sns.heatmap(cm_df, annot=True, fmt='d', annot_kws={\"size\": 25}, cbar=False, cmap=\"YlGnBu\")\n",
    "sns.set(font_scale=1.75)\n",
    "plt.title('Confusion Matrix')"
   ]
  },
  {
   "cell_type": "markdown",
   "metadata": {},
   "source": [
    "This matrix shows a much higher number of correct predictions than incorrect. The number of false negatives (112) is higher than the number of false positives, but this could be because the positive class was more numerous to begin with."
   ]
  },
  {
   "cell_type": "markdown",
   "metadata": {},
   "source": [
    "### ROC Curve"
   ]
  },
  {
   "cell_type": "code",
   "execution_count": 56,
   "metadata": {},
   "outputs": [
    {
     "data": {
      "image/png": "[encoded data removed]",
      "text/plain": [
       "<Figure size 720x720 with 1 Axes>"
      ]
     },
     "metadata": {},
     "output_type": "display_data"
    }
   ],
   "source": [
    "probs = gs1.predict_proba(X_test) # Via StackOverflow\n",
    "preds = probs[:,1]\n",
    "fpr, tpr, threshold = metrics.roc_curve(y_test, preds)\n",
    "roc_auc = metrics.auc(fpr, tpr)\n",
    "\n",
    "plt.figure(figsize=(10,10))\n",
    "plt.plot(fpr, tpr, 'b', label = 'AUC = %0.2f' % roc_auc)\n",
    "plt.legend(loc = 'lower right', fontsize=20)\n",
    "plt.plot([0, 1], [0, 1],'r--')\n",
    "plt.xlim([0, 1])\n",
    "plt.ylim([0, 1])\n",
    "plt.ylabel('True Positive Rate', fontsize=20)\n",
    "plt.xlabel('False Positive Rate', fontsize=20)\n",
    "plt.title('ROC Curve', fontsize=20)\n",
    "plt.show()"
   ]
  },
  {
   "cell_type": "markdown",
   "metadata": {},
   "source": [
    "The area under the curve is very close to 1, so this model successfully separates the two classes."
   ]
  },
  {
   "cell_type": "markdown",
   "metadata": {},
   "source": [
    "### Examining Feature Coefficients"
   ]
  },
  {
   "cell_type": "code",
   "execution_count": 62,
   "metadata": {
    "scrolled": false
   },
   "outputs": [
    {
     "data": {
      "text/html": [
       "<div>\n",
       "<style scoped>\n",
       "    .dataframe tbody tr th:only-of-type {\n",
       "        vertical-align: middle;\n",
       "    }\n",
       "\n",
       "    .dataframe tbody tr th {\n",
       "        vertical-align: top;\n",
       "    }\n",
       "\n",
       "    .dataframe thead th {\n",
       "        text-align: right;\n",
       "    }\n",
       "</style>\n",
       "<table border=\"1\" class=\"dataframe\">\n",
       "  <thead>\n",
       "    <tr style=\"text-align: right;\">\n",
       "      <th></th>\n",
       "      <th>word</th>\n",
       "      <th>coefficient</th>\n",
       "    </tr>\n",
       "  </thead>\n",
       "  <tbody>\n",
       "    <tr>\n",
       "      <th>192</th>\n",
       "      <td>hurricane</td>\n",
       "      <td>5.113822</td>\n",
       "    </tr>\n",
       "    <tr>\n",
       "      <th>200</th>\n",
       "      <td>hurricanesandy</td>\n",
       "      <td>3.887277</td>\n",
       "    </tr>\n",
       "    <tr>\n",
       "      <th>135</th>\n",
       "      <td>frankenstorm</td>\n",
       "      <td>3.555969</td>\n",
       "    </tr>\n",
       "    <tr>\n",
       "      <th>353</th>\n",
       "      <td>sandy</td>\n",
       "      <td>3.515541</td>\n",
       "    </tr>\n",
       "    <tr>\n",
       "      <th>394</th>\n",
       "      <td>storm</td>\n",
       "      <td>3.431930</td>\n",
       "    </tr>\n",
       "    <tr>\n",
       "      <th>199</th>\n",
       "      <td>hurricanes</td>\n",
       "      <td>2.917694</td>\n",
       "    </tr>\n",
       "    <tr>\n",
       "      <th>324</th>\n",
       "      <td>power</td>\n",
       "      <td>2.503436</td>\n",
       "    </tr>\n",
       "    <tr>\n",
       "      <th>463</th>\n",
       "      <td>water</td>\n",
       "      <td>2.104734</td>\n",
       "    </tr>\n",
       "    <tr>\n",
       "      <th>83</th>\n",
       "      <td>damage</td>\n",
       "      <td>1.869608</td>\n",
       "    </tr>\n",
       "    <tr>\n",
       "      <th>51</th>\n",
       "      <td>building</td>\n",
       "      <td>1.821299</td>\n",
       "    </tr>\n",
       "    <tr>\n",
       "      <th>72</th>\n",
       "      <td>closed</td>\n",
       "      <td>1.767375</td>\n",
       "    </tr>\n",
       "    <tr>\n",
       "      <th>157</th>\n",
       "      <td>gone</td>\n",
       "      <td>1.669604</td>\n",
       "    </tr>\n",
       "    <tr>\n",
       "      <th>472</th>\n",
       "      <td>wind</td>\n",
       "      <td>1.366690</td>\n",
       "    </tr>\n",
       "    <tr>\n",
       "      <th>110</th>\n",
       "      <td>emergency</td>\n",
       "      <td>1.353689</td>\n",
       "    </tr>\n",
       "    <tr>\n",
       "      <th>131</th>\n",
       "      <td>flooding</td>\n",
       "      <td>1.353279</td>\n",
       "    </tr>\n",
       "    <tr>\n",
       "      <th>92</th>\n",
       "      <td>destroyed</td>\n",
       "      <td>1.278121</td>\n",
       "    </tr>\n",
       "    <tr>\n",
       "      <th>130</th>\n",
       "      <td>flooded</td>\n",
       "      <td>1.230342</td>\n",
       "    </tr>\n",
       "    <tr>\n",
       "      <th>473</th>\n",
       "      <td>winds</td>\n",
       "      <td>1.208775</td>\n",
       "    </tr>\n",
       "    <tr>\n",
       "      <th>342</th>\n",
       "      <td>relief</td>\n",
       "      <td>1.204983</td>\n",
       "    </tr>\n",
       "    <tr>\n",
       "      <th>350</th>\n",
       "      <td>safe</td>\n",
       "      <td>1.162036</td>\n",
       "    </tr>\n",
       "    <tr>\n",
       "      <th>233</th>\n",
       "      <td>local</td>\n",
       "      <td>1.105219</td>\n",
       "    </tr>\n",
       "    <tr>\n",
       "      <th>469</th>\n",
       "      <td>west</td>\n",
       "      <td>1.091933</td>\n",
       "    </tr>\n",
       "    <tr>\n",
       "      <th>433</th>\n",
       "      <td>tree</td>\n",
       "      <td>1.082345</td>\n",
       "    </tr>\n",
       "    <tr>\n",
       "      <th>252</th>\n",
       "      <td>manhattan</td>\n",
       "      <td>1.067883</td>\n",
       "    </tr>\n",
       "    <tr>\n",
       "      <th>389</th>\n",
       "      <td>state</td>\n",
       "      <td>1.060331</td>\n",
       "    </tr>\n",
       "    <tr>\n",
       "      <th>95</th>\n",
       "      <td>dog</td>\n",
       "      <td>1.049276</td>\n",
       "    </tr>\n",
       "    <tr>\n",
       "      <th>60</th>\n",
       "      <td>cancelled</td>\n",
       "      <td>1.043488</td>\n",
       "    </tr>\n",
       "    <tr>\n",
       "      <th>319</th>\n",
       "      <td>place</td>\n",
       "      <td>1.025414</td>\n",
       "    </tr>\n",
       "    <tr>\n",
       "      <th>206</th>\n",
       "      <td>inside</td>\n",
       "      <td>0.996167</td>\n",
       "    </tr>\n",
       "    <tr>\n",
       "      <th>239</th>\n",
       "      <td>lost</td>\n",
       "      <td>0.981425</td>\n",
       "    </tr>\n",
       "  </tbody>\n",
       "</table>\n",
       "</div>"
      ],
      "text/plain": [
       "               word  coefficient\n",
       "192       hurricane     5.113822\n",
       "200  hurricanesandy     3.887277\n",
       "135    frankenstorm     3.555969\n",
       "353           sandy     3.515541\n",
       "394           storm     3.431930\n",
       "199      hurricanes     2.917694\n",
       "324           power     2.503436\n",
       "463           water     2.104734\n",
       "83           damage     1.869608\n",
       "51         building     1.821299\n",
       "72           closed     1.767375\n",
       "157            gone     1.669604\n",
       "472            wind     1.366690\n",
       "110       emergency     1.353689\n",
       "131        flooding     1.353279\n",
       "92        destroyed     1.278121\n",
       "130         flooded     1.230342\n",
       "473           winds     1.208775\n",
       "342          relief     1.204983\n",
       "350            safe     1.162036\n",
       "233           local     1.105219\n",
       "469            west     1.091933\n",
       "433            tree     1.082345\n",
       "252       manhattan     1.067883\n",
       "389           state     1.060331\n",
       "95              dog     1.049276\n",
       "60        cancelled     1.043488\n",
       "319           place     1.025414\n",
       "206          inside     0.996167\n",
       "239            lost     0.981425"
      ]
     },
     "execution_count": 62,
     "metadata": {},
     "output_type": "execute_result"
    }
   ],
   "source": [
    "top_features = pd.DataFrame(list(zip(gs1.best_estimator_.steps[0][1].get_feature_names(), # Code from Freda Xin\n",
    "                      gs1.best_estimator_.steps[1][1].coef_[0])), columns=['word', 'coefficient'])\n",
    "top_features.sort_values(by='coefficient', ascending=False).head(30)"
   ]
  },
  {
   "cell_type": "markdown",
   "metadata": {},
   "source": [
    "These words are the strongest predictors in the model. Some explicity mention hurricanes or storms, and many more mention words that become common during an emergency: 'damage', 'closed', 'relief', etc. These are the words we want to mark as dangerous. Words that pertain to a hurricane should lead to a prediction that a hurricane is approaching."
   ]
  },
  {
   "cell_type": "markdown",
   "metadata": {},
   "source": [
    "## Conclusion and Next Steps"
   ]
  },
  {
   "cell_type": "markdown",
   "metadata": {},
   "source": [
    "This model accurately predicts whether or not a hurricane is present. A positive prediction could be used as the catalyst to send a storm warning across social media. \n",
    "\n",
    "Moving forward, it may be useful to consider if a retweet could add to a word's use in the model, rather than bias. I would like to look at Twitter handles and hashtags to see if any should be followed for more precise knowledge of approaching storms. This model can be applied to various types of natural disaster. The tweets would simply need to be searched using different keywords. It is possible to use the Twitter API to collect live data, which would fulfill the ultimate goal of a realtime alert system. This system could also be set up to be on higher alert during certain season. The National Hurricane Center reports that the height of hurricane season is mid-August to late October. If predicting hurrianes, for example, this warning system could be programmed to pull data and predict hurricanes throughout the season."
   ]
  }
 ],
 "metadata": {
  "kernelspec": {
   "display_name": "Python 3",
   "language": "python",
   "name": "python3"
  },
  "language_info": {
   "codemirror_mode": {
    "name": "ipython",
    "version": 3
   },
   "file_extension": ".py",
   "mimetype": "text/x-python",
   "name": "python",
   "nbconvert_exporter": "python",
   "pygments_lexer": "ipython3",
   "version": "3.7.4"
  }
 },
 "nbformat": 4,
 "nbformat_minor": 2
}
